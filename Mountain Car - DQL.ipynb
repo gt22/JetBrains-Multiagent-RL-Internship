{
 "cells": [
  {
   "cell_type": "code",
   "execution_count": 1,
   "metadata": {},
   "outputs": [],
   "source": [
    "import gym\n",
    "import numpy as np\n",
    "from tqdm import tqdm, trange\n",
    "import torch\n",
    "import torch.nn as nn\n",
    "import torch.optim as optim\n",
    "import torch.nn.functional as F\n",
    "from torch.autograd import Variable\n",
    "from matplotlib import pyplot as plt\n",
    "import pandas as pd"
   ]
  },
  {
   "cell_type": "code",
   "execution_count": 2,
   "metadata": {},
   "outputs": [],
   "source": [
    "env = gym.make('MountainCar-v0')\n",
    "env.seed(1); torch.manual_seed(1); np.random.seed(1)"
   ]
  },
  {
   "cell_type": "code",
   "execution_count": 3,
   "metadata": {},
   "outputs": [],
   "source": [
    "# Very simple model, but enough to learn the enviornment\n",
    "model_size = 4\n",
    "model = nn.Sequential(\n",
    "    nn.Linear(env.observation_space.shape[0], model_size, bias=False),\n",
    "    nn.Linear(model_size, env.action_space.n, bias=False)\n",
    ")"
   ]
  },
  {
   "cell_type": "code",
   "execution_count": 4,
   "metadata": {},
   "outputs": [],
   "source": [
    "def qval(model, state):\n",
    "    return model(Variable(torch.from_numpy(state).type(torch.FloatTensor)))"
   ]
  },
  {
   "cell_type": "code",
   "execution_count": 5,
   "metadata": {},
   "outputs": [],
   "source": [
    "def scale(x, mn, mx):\n",
    "    return (x - mn) / (mx - mn)"
   ]
  },
  {
   "cell_type": "code",
   "execution_count": 6,
   "metadata": {},
   "outputs": [
    {
     "name": "stderr",
     "output_type": "stream",
     "text": [
      "100%|██████████████████████████████████████████████████████████████████████████████████████████████████████████████████████████████████████████████| 50/50 [00:03<00:00, 12.68it/s]"
     ]
    },
    {
     "name": "stdout",
     "output_type": "stream",
     "text": [
      "successful episodes: 35 - 70.0000%\n"
     ]
    },
    {
     "name": "stderr",
     "output_type": "stream",
     "text": [
      "\n"
     ]
    }
   ],
   "source": [
    "# Parameters\n",
    "state = env.reset()\n",
    "eps = 0.3\n",
    "eps_decay = 0.6\n",
    "gamma = 0.99\n",
    "episodes = 50\n",
    "learning_rate = 0.001\n",
    "\n",
    "# History\n",
    "successes = 0\n",
    "loss_history = []\n",
    "reward_history = []\n",
    "position_history = []\n",
    "\n",
    "\n",
    "loss_fn = nn.MSELoss()\n",
    "optimizer = optim.SGD(model.parameters(), lr=learning_rate)\n",
    "scheduler = optim.lr_scheduler.StepLR(optimizer, step_size=1, gamma=0.9)\n",
    "\n",
    "try:\n",
    "    for episode in tqdm(range(episodes)):\n",
    "        episode_loss = 0\n",
    "        episode_reward = 0\n",
    "        state = env.reset()\n",
    "        done = False\n",
    "        while not done:\n",
    "            if False:\n",
    "                env.render()\n",
    "\n",
    "            q = qval(model, state)\n",
    "\n",
    "            # eps-exploration\n",
    "            if np.random.rand() < eps:\n",
    "                action = np.random.randint(0,3)\n",
    "            else:\n",
    "                _, action = torch.max(q, -1)\n",
    "                action = action.item()\n",
    "\n",
    "            state_1, reward, done, _ = env.step(action)\n",
    "            (pos, vel) = state_1\n",
    "\n",
    "            # Default reaward is a constant of -1, and total reward is a total of -200 unless model already succeeds on the task\n",
    "            # Replace reward with car's position (rescaled to [-1; 0]). Maximizing position must maximize discrete reward as well\n",
    "            reward = scale(pos, env.observation_space.low[0], env.observation_space.high[0]) - 1\n",
    "\n",
    "            \n",
    "            best_future, _ = torch.max(qval(model, state_1), -1)\n",
    "\n",
    "\n",
    "            new_q = Variable(q.clone())\n",
    "            new_q[action] = reward + gamma * best_future.detach()\n",
    "\n",
    "            loss = loss_fn(q, new_q)\n",
    "\n",
    "            model.zero_grad()\n",
    "            loss.backward()\n",
    "            optimizer.step()\n",
    "\n",
    "            episode_loss += loss.item()\n",
    "            episode_reward += reward\n",
    "            state = state_1\n",
    "            \n",
    "        # Reduce exploration only on success, to incentivise initial discovery\n",
    "        if pos >= 0.5:\n",
    "            eps *= eps_decay\n",
    "\n",
    "            scheduler.step()\n",
    "\n",
    "            successes += 1\n",
    "        # Record history\n",
    "        loss_history.append(episode_loss)\n",
    "        reward_history.append(episode_reward)\n",
    "        position_history.append(pos)\n",
    "            \n",
    "finally:\n",
    "    env.close()\n",
    "\n",
    "print('successful episodes: {:d} - {:.4f}%'.format(successes, successes/episodes*100))"
   ]
  },
  {
   "cell_type": "code",
   "execution_count": 7,
   "metadata": {},
   "outputs": [
    {
     "data": {
      "image/png": "[encoded data removed]",
      "text/plain": [
       "<Figure size 720x360 with 1 Axes>"
      ]
     },
     "metadata": {
      "needs_background": "light"
     },
     "output_type": "display_data"
    }
   ],
   "source": [
    "plt.figure(2, figsize=(10,5))\n",
    "p = pd.Series(position_history)\n",
    "ma = p.rolling(10).mean()\n",
    "plt.plot(p, alpha=0.8)\n",
    "plt.plot(ma)\n",
    "plt.xlabel('Episode')\n",
    "plt.ylabel('Position')\n",
    "plt.title('Car Final Position')\n",
    "plt.savefig('Final Position - Modified.png')\n",
    "plt.show()"
   ]
  },
  {
   "cell_type": "code",
   "execution_count": 8,
   "metadata": {},
   "outputs": [
    {
     "data": {
      "image/png": "[encoded data removed]",
      "text/plain": [
       "<Figure size 720x360 with 1 Axes>"
      ]
     },
     "metadata": {
      "needs_background": "light"
     },
     "output_type": "display_data"
    }
   ],
   "source": [
    "plt.figure(figsize=(10, 5))\n",
    "sc = p >= 0.5\n",
    "ms = sc[5:].rolling(5).mean()\n",
    "plt.plot(ms)\n",
    "plt.xlabel(\"Episode\")\n",
    "plt.ylabel(\"Success rate (Rolling mean)\")\n",
    "plt.title(\"Success rate\")\n",
    "plt.show()"
   ]
  },
  {
   "cell_type": "code",
   "execution_count": null,
   "metadata": {},
   "outputs": [],
   "source": []
  }
 ],
 "metadata": {
  "kernelspec": {
   "display_name": "Python 3",
   "language": "python",
   "name": "python3"
  },
  "language_info": {
   "codemirror_mode": {
    "name": "ipython",
    "version": 3
   },
   "file_extension": ".py",
   "mimetype": "text/x-python",
   "name": "python",
   "nbconvert_exporter": "python",
   "pygments_lexer": "ipython3",
   "version": "3.8.3"
  }
 },
 "nbformat": 4,
 "nbformat_minor": 4
}
